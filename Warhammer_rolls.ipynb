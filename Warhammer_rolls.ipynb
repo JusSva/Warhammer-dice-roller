{
 "cells": [
  {
   "cell_type": "code",
   "execution_count": 1,
   "id": "6b193863-f370-46df-9470-ad4e63f2e0c7",
   "metadata": {},
   "outputs": [],
   "source": [
    "import random"
   ]
  },
  {
   "cell_type": "code",
   "execution_count": 9,
   "id": "cd3ef4dc-b3b9-4495-ae82-66f501d2a9d1",
   "metadata": {},
   "outputs": [],
   "source": [
    "def to_hit_roll(nDice):\n",
    "    \n",
    "    '''Calculates the total of a particular skill check or weapon to-hit roll\n",
    "    nDice: number of d6 dice that You would like to roll'''\n",
    "    if nDice != int(nDice):\n",
    "        print(\"OI, WANKER, WHAT THE FUCK ARE YOU TRYING TO DO HERE!??? This requires an actual FUCKING number >:(\")\n",
    "    rolls = []\n",
    "    for x in range(int(nDice)):\n",
    "        random.seed(random.random())\n",
    "        number = (random.randrange(1, 7))//1\n",
    "        rolls.append(number)\n",
    "    \n",
    "    num = 0\n",
    "    for i in range(len(rolls)):\n",
    "        if rolls[i] == 4 or rolls[i] == 5:\n",
    "            num = num + 1\n",
    "        elif rolls[i] == 6:\n",
    "            num = num + 2\n",
    "        else:\n",
    "            continue\n",
    "    \n",
    "    return rolls, num"
   ]
  },
  {
   "cell_type": "code",
   "execution_count": 10,
   "id": "558012ba-9aaa-43fd-ab0f-dcc27868e3d2",
   "metadata": {},
   "outputs": [],
   "source": [
    "def damage_roll(nDice, bonus):\n",
    "    \n",
    "    ''' Calculates the damage that a particular character will deal with a particular weapon\n",
    "    nDice: number of d6 damage dice You would like to roll\n",
    "    bonus: the bonus from a specific weapon'''\n",
    "    \n",
    "    if nDice != int(nDice):\n",
    "        print(\"YOU THINK YOU CAN INPUT ANY SYMBOL OTHER THAN A NUMBER INTO THIS AND I WOULDN't NOTICE, HUH!?\")\n",
    "    if bonus != int(bonus):\n",
    "        print(\"You're still trying to break this?\")\n",
    "        \n",
    "    rolls = []\n",
    "    for x in range(int(nDice)):\n",
    "        random.seed(random.random())\n",
    "        number = (random.randrange(1, 7))//1\n",
    "        rolls.append(number)\n",
    "    \n",
    "    num = 0\n",
    "    for i in range(len(rolls)):\n",
    "        if rolls[i] == 4 or rolls[i] == 5:\n",
    "            num = num + 1\n",
    "        elif rolls[i] == 6:\n",
    "            num = num + 2\n",
    "        else:\n",
    "            continue\n",
    "    \n",
    "    return rolls, num + bonus"
   ]
  },
  {
   "cell_type": "code",
   "execution_count": 11,
   "id": "ff8763b3-2984-4327-877f-aec452d90d18",
   "metadata": {},
   "outputs": [],
   "source": [
    "def dice_roller(nDiceHit, nDiceDMG, bonusDMG):\n",
    "    \n",
    "    '''Combines the to_hit_roll and damage_roll functions\n",
    "    nDiceHit: number of d6 dice for your skill check\n",
    "    nDiceDMG: number of damage d6 dice\n",
    "    bonusDMG: bonus damage, associated with a particular weapon'''\n",
    "    if nDiceHit != int(nDiceHit):\n",
    "        return \"YOU THINK YOU CAN INPUT ANY SYMBOL OTHER THAN A NUMBER INTO THIS AND I WOULDN'T NOTICE, HUH!?\"\n",
    "    if bonusDMG != int(bonusDMG):\n",
    "        return \"You're still trying to break this?\"\n",
    "    \n",
    "    a, b = to_hit_roll(nDiceHit)\n",
    "    c, d = damage_roll(nDiceDMG, bonusDMG)\n",
    "    \n",
    "    return f'Your to-hit rolls: {a}', f'your to-hit total: {b}', f'Your damage rolls: {c}', f'your damage total: {d}'"
   ]
  },
  {
   "cell_type": "code",
   "execution_count": 12,
   "id": "5cdcf37e-7698-4e0e-b132-d92abc65e5c0",
   "metadata": {},
   "outputs": [
    {
     "data": {
      "text/plain": [
       "('Your to-hit rolls: [1, 3, 4, 5, 4, 5, 2, 1, 4, 4]',\n",
       " 'your to-hit total: 6',\n",
       " 'Your damage rolls: []',\n",
       " 'your damage total: 0')"
      ]
     },
     "execution_count": 12,
     "metadata": {},
     "output_type": "execute_result"
    }
   ],
   "source": [
    "dice_roller(10, 0, 0)"
   ]
  },
  {
   "cell_type": "code",
   "execution_count": null,
   "id": "6757ce9b-76e8-4f23-94ad-868ee02d4dc6",
   "metadata": {},
   "outputs": [],
   "source": []
  }
 ],
 "metadata": {
  "kernelspec": {
   "display_name": "Python 3 (ipykernel)",
   "language": "python",
   "name": "python3"
  },
  "language_info": {
   "codemirror_mode": {
    "name": "ipython",
    "version": 3
   },
   "file_extension": ".py",
   "mimetype": "text/x-python",
   "name": "python",
   "nbconvert_exporter": "python",
   "pygments_lexer": "ipython3",
   "version": "3.9.12"
  }
 },
 "nbformat": 4,
 "nbformat_minor": 5
}
