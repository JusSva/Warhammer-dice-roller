{
 "cells": [
  {
   "cell_type": "code",
   "execution_count": 5,
   "id": "6b193863-f370-46df-9470-ad4e63f2e0c7",
   "metadata": {},
   "outputs": [],
   "source": [
    "import random\n",
    "import csv"
   ]
  },
  {
   "cell_type": "code",
   "execution_count": 6,
   "id": "cd3ef4dc-b3b9-4495-ae82-66f501d2a9d1",
   "metadata": {},
   "outputs": [],
   "source": [
    "def to_hit_roll(nDice):\n",
    "    \n",
    "    '''Calculates the total of a particular skill check or weapon to-hit roll\n",
    "    nDice: number of d6 dice that You would like to roll'''\n",
    "\n",
    "    rolls = []\n",
    "    for x in range(int(nDice)):\n",
    "        random.seed(random.random())\n",
    "        number = (random.randrange(1, 7))//1\n",
    "        rolls.append(number)\n",
    "    \n",
    "    num = 0\n",
    "    for i in range(len(rolls)):\n",
    "        if rolls[i] == 4 or rolls[i] == 5:\n",
    "            num = num + 1\n",
    "        elif rolls[i] == 6:\n",
    "            num = num + 2\n",
    "        else:\n",
    "            continue\n",
    "    \n",
    "    return rolls, num"
   ]
  },
  {
   "cell_type": "code",
   "execution_count": 7,
   "id": "558012ba-9aaa-43fd-ab0f-dcc27868e3d2",
   "metadata": {},
   "outputs": [],
   "source": [
    "def damage_roll(nDice, bonus):\n",
    "    \n",
    "    ''' Calculates the damage that a particular character will deal with a particular weapon\n",
    "    nDice: number of d6 damage dice You would like to roll\n",
    "    bonus: the bonus from a specific weapon'''\n",
    "        \n",
    "    rolls = []\n",
    "    for x in range(int(nDice)):\n",
    "        random.seed(random.random())\n",
    "        number = (random.randrange(1, 7))//1\n",
    "        rolls.append(number)\n",
    "    \n",
    "    num = 0\n",
    "    for i in range(len(rolls)):\n",
    "        if rolls[i] == 4 or rolls[i] == 5:\n",
    "            num = num + 1\n",
    "        elif rolls[i] == 6:\n",
    "            num = num + 2\n",
    "        else:\n",
    "            continue\n",
    "    \n",
    "    return rolls, num + bonus"
   ]
  },
  {
   "cell_type": "code",
   "execution_count": 47,
   "id": "ff8763b3-2984-4327-877f-aec452d90d18",
   "metadata": {},
   "outputs": [],
   "source": [
    "def dice_roller(nDiceHit, nDiceDMG, bonusDMG):\n",
    "    \n",
    "    '''Combines the to_hit_roll and damage_roll functions\n",
    "    nDiceHit: number of d6 dice for your skill check\n",
    "    nDiceDMG: number of damage d6 dice\n",
    "    bonusDMG: bonus damage, associated with a particular weapon'''\n",
    "   \n",
    "    a, b = to_hit_roll(nDiceHit)\n",
    "    c, d = damage_roll(nDiceDMG, bonusDMG)\n",
    "    \n",
    "    with open('dice_roll_history.csv', 'a') as history:\n",
    "        history.write(f'Your to-hit rolls: {a} \\n')\n",
    "        history.write(f'Your total to_hit: {b} \\n')\n",
    "        history.write(f'Your damage rolls: {c} \\n')\n",
    "        history.write(f'Your total damage: {d + bonusDMG} \\n')\n",
    "        history.write('\\n')\n",
    "        history.close()\n",
    "    \n",
    "    return f'Your to-hit rolls: {a}', f'Your total to-hit: {b}', f'Your damage rolls: {c}', f'Your total damage: {d}'"
   ]
  },
  {
   "cell_type": "code",
   "execution_count": 9,
   "id": "2bcd4e3f-bda3-4e62-ae85-b2cf7ee24a22",
   "metadata": {},
   "outputs": [],
   "source": [
    "def random_table(highest_num, nDice = 1):\n",
    "    \n",
    "    '''Will roll a number for any of the tables present in Warhammer 40k\n",
    "    highest_num: highest value on a table. If the table's highest value is 66, then input 66\n",
    "    nDice: optional attribute. Number of dice for the table(-s). Default: 1 dice'''\n",
    "    \n",
    "    rolls = []\n",
    "    for x in range(nDice):\n",
    "        random.seed(random.random())\n",
    "        num = random.randrange(1, highest_num + 1)\n",
    "        rolls.append(num)\n",
    "    \n",
    "    return rolls"
   ]
  },
  {
   "cell_type": "code",
   "execution_count": 45,
   "id": "2eb7603f-bd3e-45d9-8051-d75ebca597bd",
   "metadata": {},
   "outputs": [],
   "source": [
    "def open_history():\n",
    "    with open('dice_roll_history.csv', \"r\") as history:\n",
    "        for row in history:\n",
    "            print(row)"
   ]
  },
  {
   "cell_type": "code",
   "execution_count": 46,
   "id": "c43addbb-8589-4db3-bebc-decc897397c3",
   "metadata": {},
   "outputs": [],
   "source": [
    "def clear_history():\n",
    "    \n",
    "    '''Clears the history of the dice rolls in the .csv file'''\n",
    "    with open('dice_roll_history.csv', \"w\") as history:\n",
    "        history.truncate()\n",
    "        history.close()"
   ]
  },
  {
   "cell_type": "markdown",
   "id": "01a028d5-f374-4896-899b-7bc5090eedb0",
   "metadata": {},
   "source": [
    "### The important functions for You are:\n",
    "\n",
    "* dice_roller(Number_of_dice_for_to-hit, Number_of_dice_for_damage, Bonus_damage)\n",
    "  * Can be used for skill checks and attack rolls. For the prior, just ignore the damage rolls \n",
    "  <br></br> \n",
    "* random_table(highest_number_of_the_table, number_of_dice)\n",
    "  * number_of_dice is usually 1 and if that is the case, You don't need to specify that.\n",
    "  * Both random_table(6) and random_table(6, 1) will roll the same 1d6\n",
    "<br></br>\n",
    "* open_history()\n",
    "  * Will show You the history of Your rolls without having to look for the file where it is saved. No additional values are needed for it to work\n",
    "  <br></br>\n",
    "* clear_hisotry()\n",
    "  * Similarly to open_history(), no additional values are needed, just copy/paste it and You are done "
   ]
  },
  {
   "cell_type": "code",
   "execution_count": 66,
   "id": "5cdcf37e-7698-4e0e-b132-d92abc65e5c0",
   "metadata": {},
   "outputs": [
    {
     "data": {
      "text/plain": [
       "('Your to-hit rolls: [4, 4, 5, 1, 4, 2, 4, 5, 4, 3]',\n",
       " 'Your total to-hit: 7',\n",
       " 'Your damage rolls: [2, 2, 4, 1, 3, 2, 2, 3, 6, 2, 3, 1]',\n",
       " 'Your total damage: 12')"
      ]
     },
     "execution_count": 66,
     "metadata": {},
     "output_type": "execute_result"
    }
   ],
   "source": [
    "dice_roller(10, 12, 9)"
   ]
  },
  {
   "cell_type": "code",
   "execution_count": 29,
   "id": "e219a36e-b552-4ad5-94ae-2c773725de18",
   "metadata": {},
   "outputs": [
    {
     "data": {
      "text/plain": [
       "[2]"
      ]
     },
     "execution_count": 29,
     "metadata": {},
     "output_type": "execute_result"
    }
   ],
   "source": [
    "random_table(3)"
   ]
  },
  {
   "cell_type": "code",
   "execution_count": 65,
   "id": "30af9cdb-5538-4a18-8c70-420e0ccb2f4b",
   "metadata": {},
   "outputs": [],
   "source": [
    "open_history()"
   ]
  },
  {
   "cell_type": "code",
   "execution_count": 64,
   "id": "d3fbcd09-9f00-4b94-8472-2dc3647bb58c",
   "metadata": {},
   "outputs": [],
   "source": [
    "clear_history()"
   ]
  },
  {
   "cell_type": "code",
   "execution_count": null,
   "id": "9a25fc2c-5c34-402f-95ed-0beae4f71ae3",
   "metadata": {},
   "outputs": [],
   "source": []
  }
 ],
 "metadata": {
  "kernelspec": {
   "display_name": "Python 3 (ipykernel)",
   "language": "python",
   "name": "python3"
  },
  "language_info": {
   "codemirror_mode": {
    "name": "ipython",
    "version": 3
   },
   "file_extension": ".py",
   "mimetype": "text/x-python",
   "name": "python",
   "nbconvert_exporter": "python",
   "pygments_lexer": "ipython3",
   "version": "3.9.12"
  }
 },
 "nbformat": 4,
 "nbformat_minor": 5
}
