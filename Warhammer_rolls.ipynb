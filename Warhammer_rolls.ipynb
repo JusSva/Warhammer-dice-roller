{
 "cells": [
  {
   "cell_type": "code",
   "execution_count": 1,
   "id": "e7e476fe-27b7-4b0a-a3d7-794fd52f0539",
   "metadata": {},
   "outputs": [],
   "source": [
    "import random\n",
    "import csv"
   ]
  },
  {
   "cell_type": "code",
   "execution_count": 2,
   "id": "87c4b0f9-6f11-4c2d-988f-f9fcfbaecc28",
   "metadata": {},
   "outputs": [],
   "source": [
    "def to_hit_roll(nDice):\n",
    "    \n",
    "    '''Calculates the total of a particular skill check or weapon to-hit roll\n",
    "    nDice: number of d6 dice that You would like to roll'''\n",
    "\n",
    "    rolls = []\n",
    "    for x in range(int(nDice)):\n",
    "        random.seed()\n",
    "        number = (random.randrange(1, 7))//1\n",
    "        rolls.append(number)\n",
    "    \n",
    "    num = 0\n",
    "    for i in range(len(rolls)):\n",
    "        if rolls[i] == 4 or rolls[i] == 5:\n",
    "            num = num + 1\n",
    "        elif rolls[i] == 6:\n",
    "            num = num + 2\n",
    "        else:\n",
    "            continue\n",
    "    \n",
    "    return rolls, num"
   ]
  },
  {
   "cell_type": "code",
   "execution_count": 3,
   "id": "c9262c23-1e74-4390-92b8-2bb498660f7e",
   "metadata": {},
   "outputs": [],
   "source": [
    "def damage_roll(nDice, bonus):\n",
    "    \n",
    "    ''' Calculates the damage that a particular character will deal with a particular weapon\n",
    "    nDice: number of d6 damage dice You would like to roll\n",
    "    bonus: the bonus from a specific weapon'''\n",
    "        \n",
    "    rolls = []\n",
    "    for x in range(int(nDice)):\n",
    "        random.seed()\n",
    "        number = (random.randrange(1, 7))//1\n",
    "        rolls.append(number)\n",
    "    \n",
    "    num = 0\n",
    "    for i in range(len(rolls)):\n",
    "        if rolls[i] == 4 or rolls[i] == 5:\n",
    "            num = num + 1\n",
    "        elif rolls[i] == 6:\n",
    "            num = num + 2\n",
    "        else:\n",
    "            continue\n",
    "    \n",
    "    return rolls, num + bonus"
   ]
  },
  {
   "cell_type": "code",
   "execution_count": 15,
   "id": "c73c60f6-c7fe-400c-9870-782b5d72b04f",
   "metadata": {},
   "outputs": [],
   "source": [
    "def dice_roller(nDiceHit, nDiceDMG, bonusDMG):\n",
    "    \n",
    "    '''Combines the to_hit_roll and damage_roll functions\n",
    "    nDiceHit: number of d6 dice for your skill check\n",
    "    nDiceDMG: number of damage d6 dice\n",
    "    bonusDMG: bonus damage, associated with a particular weapon'''\n",
    "   \n",
    "    hit_rolls, hit_total = to_hit_roll(nDiceHit)\n",
    "    dmg_rolls, dmg_total = damage_roll(nDiceDMG, bonusDMG)\n",
    "    \n",
    "    with open('dice_roll_history.csv', 'a') as history:\n",
    "        history.write(f'Your to-hit rolls: {hit_rolls} \\n')\n",
    "        history.write(f'Your total Icons: {hit_total} \\n')\n",
    "        history.write(f'Your damage rolls: {dmg_rolls} \\n')\n",
    "        history.write(f'Your total damage: {dmg_total} \\n')\n",
    "        history.write('\\n')\n",
    "        history.close()\n",
    "    \n",
    "    return f'Your to-hit rolls: {hit_rolls}', f'Your total Icons: {hit_total}', f'Your damage rolls: {dmg_rolls}', f'Your total damage: {dmg_total}'"
   ]
  },
  {
   "cell_type": "code",
   "execution_count": 16,
   "id": "5067e563-f9a5-4ba0-bc6e-a0ddfd449b20",
   "metadata": {},
   "outputs": [],
   "source": [
    "def random_table(highest_num, lowest_num = 1, nDice = 1):\n",
    "    \n",
    "    '''Will roll a number for any of the tables present in Warhammer 40k\n",
    "    highest_num: highest value on a table. If the table's highest value is 66, then input 66\n",
    "    lowest_num: optional attribute. lowest value on the table(-s). Default: 1\n",
    "    nDice: optional attribute. Number of dice for the table(-s). Default: 1 dice'''\n",
    "    \n",
    "    rolls = []\n",
    "    for x in range(nDice):\n",
    "        random.seed()\n",
    "        num = random.randrange(lowest_num, highest_num + 1)\n",
    "        rolls.append(num)\n",
    "    \n",
    "    return rolls"
   ]
  },
  {
   "cell_type": "code",
   "execution_count": 17,
   "id": "83f962ff-ab4e-4f34-84f2-688a61be2754",
   "metadata": {},
   "outputs": [],
   "source": [
    "def open_history():\n",
    "    \n",
    "    '''Shows the history of to-hit and damage rolls'''\n",
    "    with open('dice_roll_history.csv', \"r\") as history:\n",
    "        for row in history:\n",
    "            print(row)"
   ]
  },
  {
   "cell_type": "code",
   "execution_count": 18,
   "id": "22e3372c-c2d6-473a-8f9b-23134275b897",
   "metadata": {},
   "outputs": [],
   "source": [
    "def clear_history():\n",
    "    \n",
    "    '''Clears the history of the dice rolls in the .csv file'''\n",
    "    with open('dice_roll_history.csv', \"w\") as history:\n",
    "        history.truncate()\n",
    "        history.close()"
   ]
  },
  {
   "cell_type": "markdown",
   "id": "b31fe48a-b44b-4bdc-9e80-ca3bbaf5e928",
   "metadata": {},
   "source": [
    "### The important functions for You are:\n",
    "\n",
    "* dice_roller(Number_of_dice_for_to-hit, Number_of_dice_for_damage, Bonus_damage)\n",
    "  * Can be used for skill checks and attack rolls. For the prior, just ignore the damage rolls \n",
    "  <br></br> \n",
    "* random_table(highest_number_of_the_table, lowest_number_of_the_table, number_of_dice)\n",
    "  * lowest_num is in some tables (in 40k) is 1, in others- something like 11, so the default is 1.  \n",
    "  * number_of_dice is usually 1 and if that is the case, You don't need to specify that.\n",
    "  * Both random_table(6) and random_table(6, 1) will roll the same 1d6\n",
    "    * if You want to change the range of the table use:\n",
    "      * random_table(66, 11) or random_table(66, 11, 1)- one roll on a table with ranges from 11 to 66\n",
    "    * If you want to alter just the number of dice for the table, You will either need to:\n",
    "      * specify each number of the function [random_table(66, 1, 2)]\n",
    "      * or write down the value names: random_table(highest_num = 66, nDice = 2)\n",
    "<br></br>\n",
    "* open_history()\n",
    "  * Will show You the history of Your rolls without having to look for the file where it is saved. No additional values are needed for it to work\n",
    "  <br></br>\n",
    "* clear_hisotry()\n",
    "  * Similarly to open_history(), no additional values are needed, just copy/paste it and You are done "
   ]
  },
  {
   "cell_type": "code",
   "execution_count": 19,
   "id": "5cdcf37e-7698-4e0e-b132-d92abc65e5c0",
   "metadata": {},
   "outputs": [
    {
     "data": {
      "text/plain": [
       "('Your to-hit rolls: [4, 6, 6, 6, 4, 1, 1, 3, 5, 1]',\n",
       " 'Your total Icons: 9',\n",
       " 'Your damage rolls: [1]',\n",
       " 'Your total damage: 7')"
      ]
     },
     "execution_count": 19,
     "metadata": {},
     "output_type": "execute_result"
    }
   ],
   "source": [
    "dice_roller(10, 1, 7)"
   ]
  },
  {
   "cell_type": "code",
   "execution_count": 9,
   "id": "e219a36e-b552-4ad5-94ae-2c773725de18",
   "metadata": {},
   "outputs": [
    {
     "data": {
      "text/plain": [
       "[23, 32, 29, 37, 30, 66]"
      ]
     },
     "execution_count": 9,
     "metadata": {},
     "output_type": "execute_result"
    }
   ],
   "source": [
    "random_table(66, 11, 6)"
   ]
  },
  {
   "cell_type": "code",
   "execution_count": 20,
   "id": "30af9cdb-5538-4a18-8c70-420e0ccb2f4b",
   "metadata": {},
   "outputs": [
    {
     "name": "stdout",
     "output_type": "stream",
     "text": [
      "Your to-hit rolls: [1, 6, 3, 2, 6, 5, 1, 3, 6, 5] \n",
      "\n",
      "Your total to_hit: 8 \n",
      "\n",
      "Your damage rolls: [4, 5, 3, 6, 6, 1, 2, 6, 6, 5, 2, 6] \n",
      "\n",
      "Your total damage: 22 \n",
      "\n",
      "\n",
      "\n",
      "Your to-hit rolls: [6, 6, 5, 3, 6, 4, 3, 4, 3, 1] \n",
      "\n",
      "Your total to_hit: 9 \n",
      "\n",
      "Your damage rolls: [2, 6, 6, 1, 2, 5, 1, 2, 1, 2, 1, 3] \n",
      "\n",
      "Your total damage: 14 \n",
      "\n",
      "\n",
      "\n",
      "Your to-hit rolls: [6, 3, 4, 4, 6, 3, 3, 6, 1, 4] \n",
      "\n",
      "Your total to_hit: 9 \n",
      "\n",
      "Your damage rolls: [4] \n",
      "\n",
      "Your total damage: 8 \n",
      "\n",
      "\n",
      "\n",
      "Your to-hit rolls: [6, 6, 3, 1, 1, 3, 6, 4, 1, 5] \n",
      "\n",
      "Your total Icons: 8 \n",
      "\n",
      "Your damage rolls: [1] \n",
      "\n",
      "Your total damage: 7 \n",
      "\n",
      "\n",
      "\n",
      "Your to-hit rolls: [4, 6, 6, 6, 4, 1, 1, 3, 5, 1] \n",
      "\n",
      "Your total Icons: 9 \n",
      "\n",
      "Your damage rolls: [1] \n",
      "\n",
      "Your total damage: 7 \n",
      "\n",
      "\n",
      "\n"
     ]
    }
   ],
   "source": [
    "open_history()"
   ]
  },
  {
   "cell_type": "code",
   "execution_count": 26,
   "id": "d3fbcd09-9f00-4b94-8472-2dc3647bb58c",
   "metadata": {},
   "outputs": [],
   "source": [
    "clear_history()"
   ]
  },
  {
   "cell_type": "code",
   "execution_count": null,
   "id": "9a25fc2c-5c34-402f-95ed-0beae4f71ae3",
   "metadata": {},
   "outputs": [],
   "source": []
  }
 ],
 "metadata": {
  "kernelspec": {
   "display_name": "Python 3 (ipykernel)",
   "language": "python",
   "name": "python3"
  },
  "language_info": {
   "codemirror_mode": {
    "name": "ipython",
    "version": 3
   },
   "file_extension": ".py",
   "mimetype": "text/x-python",
   "name": "python",
   "nbconvert_exporter": "python",
   "pygments_lexer": "ipython3",
   "version": "3.9.12"
  }
 },
 "nbformat": 4,
 "nbformat_minor": 5
}
